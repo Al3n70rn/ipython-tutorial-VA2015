{
 "cells": [
  {
   "cell_type": "markdown",
   "metadata": {},
   "source": [
    "# Getting Started\n",
    "\n",
    "We are using in this tutorial [IPython/Jupyther Notebooks](http://ipython.org/notebook.html). IPython notebooks are a web based development environment allowing you to combine documentation (markdown), code, and their results into a single document. This follows a similar idea to [Mathematica](http://www.wolfram.com/mathematica/). "
   ]
  },
  {
   "cell_type": "markdown",
   "metadata": {},
   "source": [
    "## Installation\n",
    "\n",
    "[Anaconda](https://www.continuum.io/downloads) (*Please select the Python 3 download*)"
   ]
  },
  {
   "cell_type": "markdown",
   "metadata": {},
   "source": [
    "## Usage\n",
    "\n",
    "how to use anaconda notebooks. what to launch, what to give, basic usage, how to get help, ...\n",
    "\n",
    "launch in commnand line:\n",
    "```bash\n",
    "ipython notebook\n",
    "```\n",
    "\n",
    "this will open your webbrowser with the IPython dev environment. \n",
    "\n",
    "```bash\n",
    "git clone "
   ]
  },
  {
   "cell_type": "code",
   "execution_count": null,
   "metadata": {
    "collapsed": true
   },
   "outputs": [],
   "source": []
  },
  {
   "cell_type": "markdown",
   "metadata": {},
   "source": [
    "## Deployment\n",
    "\n",
    "e.g., via [mybinder.org](http://mybinder.org). Binder turns a Github repository into an collection of interactive notebooks. "
   ]
  }
 ],
 "metadata": {
  "kernelspec": {
   "display_name": "Python 3",
   "language": "python",
   "name": "python3"
  },
  "language_info": {
   "codemirror_mode": {
    "name": "ipython",
    "version": 3
   },
   "file_extension": ".py",
   "mimetype": "text/x-python",
   "name": "python",
   "nbconvert_exporter": "python",
   "pygments_lexer": "ipython3",
   "version": "3.4.3"
  }
 },
 "nbformat": 4,
 "nbformat_minor": 0
}
